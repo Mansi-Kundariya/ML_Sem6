{
  "nbformat": 4,
  "nbformat_minor": 0,
  "metadata": {
    "colab": {
      "provenance": [],
      "mount_file_id": "1kTqFvrIi7lvQJ48Py4d2Ij3f0f7Gjbfa",
      "authorship_tag": "ABX9TyNRRnGVYpQGPqRLKQApN7Ki",
      "include_colab_link": true
    },
    "kernelspec": {
      "name": "python3",
      "display_name": "Python 3"
    },
    "language_info": {
      "name": "python"
    }
  },
  "cells": [
    {
      "cell_type": "markdown",
      "metadata": {
        "id": "view-in-github",
        "colab_type": "text"
      },
      "source": [
        "<a href=\"https://colab.research.google.com/github/Mansi-Kundariya/ML_Sem6/blob/main/ML_Lab2.ipynb\" target=\"_parent\"><img src=\"https://colab.research.google.com/assets/colab-badge.svg\" alt=\"Open In Colab\"/></a>"
      ]
    },
    {
      "cell_type": "markdown",
      "source": [
        "# ***Lab : 2***\n",
        "\n",
        "# **Data Preprocessing and Feature Selection**"
      ],
      "metadata": {
        "id": "n4dge0NK4mVo"
      }
    },
    {
      "cell_type": "markdown",
      "source": [
        "\n",
        "\n",
        "**1.    Steps for Data Transformation**\n",
        "\n"
      ],
      "metadata": {
        "id": "dWgAJFlx25rK"
      }
    },
    {
      "cell_type": "code",
      "source": [
        "# 1. Import Libraries\n",
        "import numpy as np\n",
        "import pandas as pd\n",
        "from sklearn.preprocessing import MinMaxScaler, StandardScaler\n",
        "\n",
        "# 2. Load data\n",
        "from google.colab import drive\n",
        "drive.mount('/content/drive')\n",
        "\n",
        "ds = pd.read_csv('/content/drive/MyDrive/Colab Notebooks/Lab2_Data_for_Transformation.csv')\n",
        "print(\"\\nData : \\n\", ds) \n",
        "\n",
        "# 3: Seprate Input and Output attributes\n",
        "X = ds.iloc[:,  :-1].values\n",
        "print(\"\\n---------------------------Input-------------------------------------\")\n",
        "print(X)\n",
        "Y = ds.iloc[:, -1].values\n",
        "print(\"\\n---------------------------Output-------------------------------------\")\n",
        "print(Y)\n",
        "\n",
        "X_new = ds.iloc[:, 1:3].values\n",
        "print(\"\\n\\n X for transformation : \\n\", X_new)\n",
        "\n",
        "# 4 : Perform scaling on age and salary\n",
        "s = MinMaxScaler()\n",
        "X_scaled = s.fit_transform(X_new)\n",
        "print(\"\\n\\n Scaled X : \\n\", X_scaled)\n",
        "\n",
        "# 5 : Perform standardization on age and salary\n",
        "std = StandardScaler()\n",
        "X_std = std.fit_transform(X_new)\n",
        "print(\"\\n\\nStandardized X : \\n\", X_std)\n"
      ],
      "metadata": {
        "colab": {
          "base_uri": "https://localhost:8080/"
        },
        "id": "7SInZINl22RO",
        "outputId": "4b8b7906-eda2-4258-f059-3ed0ddfa7e45"
      },
      "execution_count": 22,
      "outputs": [
        {
          "output_type": "stream",
          "name": "stdout",
          "text": [
            "Drive already mounted at /content/drive; to attempt to forcibly remount, call drive.mount(\"/content/drive\", force_remount=True).\n",
            "\n",
            "Data : \n",
            "     Country  Age  Salary Purchased\n",
            "0    France   44   72000        No\n",
            "1     Spain   27   48000       Yes\n",
            "2   Germany   30   54000        No\n",
            "3     Spain   38   61000        No\n",
            "4   Germany   40   68000       Yes\n",
            "5    France   35   58000       Yes\n",
            "6     Spain   39   52000        No\n",
            "7    France   48   79000       Yes\n",
            "8   Germany   50   83000        No\n",
            "9    France   37   67000       Yes\n",
            "10    Spain   45   55000        No\n",
            "\n",
            "---------------------------Input-------------------------------------\n",
            "[['France' 44 72000]\n",
            " ['Spain' 27 48000]\n",
            " ['Germany' 30 54000]\n",
            " ['Spain' 38 61000]\n",
            " ['Germany' 40 68000]\n",
            " ['France' 35 58000]\n",
            " ['Spain' 39 52000]\n",
            " ['France' 48 79000]\n",
            " ['Germany' 50 83000]\n",
            " ['France' 37 67000]\n",
            " ['Spain' 45 55000]]\n",
            "\n",
            "---------------------------Output-------------------------------------\n",
            "['No' 'Yes' 'No' 'No' 'Yes' 'Yes' 'No' 'Yes' 'No' 'Yes' 'No']\n",
            "\n",
            "\n",
            " X for transformation : \n",
            " [[   44 72000]\n",
            " [   27 48000]\n",
            " [   30 54000]\n",
            " [   38 61000]\n",
            " [   40 68000]\n",
            " [   35 58000]\n",
            " [   39 52000]\n",
            " [   48 79000]\n",
            " [   50 83000]\n",
            " [   37 67000]\n",
            " [   45 55000]]\n",
            "\n",
            "\n",
            " Scaled X : \n",
            " [[0.73913043 0.68571429]\n",
            " [0.         0.        ]\n",
            " [0.13043478 0.17142857]\n",
            " [0.47826087 0.37142857]\n",
            " [0.56521739 0.57142857]\n",
            " [0.34782609 0.28571429]\n",
            " [0.52173913 0.11428571]\n",
            " [0.91304348 0.88571429]\n",
            " [1.         1.        ]\n",
            " [0.43478261 0.54285714]\n",
            " [0.7826087  0.2       ]]\n",
            "\n",
            "\n",
            "Standardized X : \n",
            " [[ 0.68188156  0.79548755]\n",
            " [-1.81835082 -1.41513049]\n",
            " [-1.37713334 -0.86247598]\n",
            " [-0.2005534  -0.21771238]\n",
            " [ 0.09359159  0.42705121]\n",
            " [-0.64177088 -0.49403964]\n",
            " [-0.05348091 -1.04669415]\n",
            " [ 1.27017153  1.44025115]\n",
            " [ 1.56431652  1.80868749]\n",
            " [-0.34762589  0.33494213]\n",
            " [ 0.82895405 -0.77036689]]\n"
          ]
        }
      ]
    },
    {
      "cell_type": "markdown",
      "source": [
        "**2 Steps for Handling Categorical Data**"
      ],
      "metadata": {
        "id": "ROFnzQZBN0G4"
      }
    },
    {
      "cell_type": "code",
      "source": [
        "# 1: Import Libraries\n",
        "import numpy as np\n",
        "import pandas as pd\n",
        "from sklearn.preprocessing import LabelEncoder,OneHotEncoder\n",
        "\n",
        "# 2: Load Data\n",
        "from google.colab import drive\n",
        "drive.mount('/content/drive')\n",
        "\n",
        "ds = pd.read_csv('/content/drive/MyDrive/Colab Notebooks/Lab2_Data_for_Categorical_Values.csv')\n",
        "print(\"\\nData :\\n\",ds)\n",
        "print(\"\\nData statistics\\n\",ds.describe())\n",
        "\n",
        "# 3: Seprate Input and Output attributes\n",
        "X = ds.iloc[:,  :-1].values\n",
        "print(\"\\n---------------------------Input-------------------------------------\")\n",
        "print(X)\n",
        "Y = ds.iloc[:, -1].values\n",
        "print(\"\\n---------------------------Output-------------------------------------\")\n",
        "print(Y)\n",
        "\n",
        "#  4a: Apply LabelEncoder on the data to convert country names into numeric values\n",
        "le = LabelEncoder()\n",
        "X[ : ,0] = le.fit_transform(X[ : ,0])\n",
        "print(\"\\n\\nInput : \\n\", X)\n",
        "\n",
        "# 4b: Use dummy variables from pandas library to create one column for each country\n",
        "dummy = pd.get_dummies(ds['Country'])\n",
        "print(\"\\n\\n Dummy : \\n \", dummy)\n",
        "data = ds.drop(['Country', 'Purchased'], axis=1)\n",
        "data = pd.concat([dummy,data], axis=1)\n",
        "print(\"\\n\\nFinal Dataset : \\n\", data)\n",
        "\n",
        "    # One Hot Encoder\n",
        "onehotencoder = OneHotEncoder()\n",
        "x = onehotencoder.fit_transform(ds.Country.values.reshape(-1,1)).toarray()\n",
        "print(\"\\n\\nOne Hot Encoding : \\n\", x)\n",
        "\n",
        "dfOneHot = pd.DataFrame(x, columns = [\"Country_\"+str(int(i)) for i in range(ds.shape[1]-1)])\n",
        "df = pd.concat([ds, dfOneHot], axis=1)\n",
        "df = df.drop(['Country'], axis=1)\n",
        "print(df)"
      ],
      "metadata": {
        "colab": {
          "base_uri": "https://localhost:8080/"
        },
        "id": "Q0fijYWwNzxw",
        "outputId": "4a3de37a-d95c-4911-90fb-d884718d53ab"
      },
      "execution_count": 23,
      "outputs": [
        {
          "output_type": "stream",
          "name": "stdout",
          "text": [
            "Drive already mounted at /content/drive; to attempt to forcibly remount, call drive.mount(\"/content/drive\", force_remount=True).\n",
            "\n",
            "Data :\n",
            "     Country  Age  Salary Purchased\n",
            "0    France   44   72000        No\n",
            "1     Spain   27   48000       Yes\n",
            "2   Germany   30   54000        No\n",
            "3     Spain   38   61000        No\n",
            "4   Germany   40   68000       Yes\n",
            "5    France   35   58000       Yes\n",
            "6     Spain   39   52000        No\n",
            "7    France   48   79000       Yes\n",
            "8   Germany   50   83000        No\n",
            "9    France   37   67000       Yes\n",
            "10    Spain   45   55000        No\n",
            "\n",
            "Data statistics\n",
            "              Age        Salary\n",
            "count  11.000000     11.000000\n",
            "mean   39.363636  63363.636364\n",
            "std     7.131237  11386.594989\n",
            "min    27.000000  48000.000000\n",
            "25%    36.000000  54500.000000\n",
            "50%    39.000000  61000.000000\n",
            "75%    44.500000  70000.000000\n",
            "max    50.000000  83000.000000\n",
            "\n",
            "---------------------------Input-------------------------------------\n",
            "[['France' 44 72000]\n",
            " ['Spain' 27 48000]\n",
            " ['Germany' 30 54000]\n",
            " ['Spain' 38 61000]\n",
            " ['Germany' 40 68000]\n",
            " ['France' 35 58000]\n",
            " ['Spain' 39 52000]\n",
            " ['France' 48 79000]\n",
            " ['Germany' 50 83000]\n",
            " ['France' 37 67000]\n",
            " ['Spain' 45 55000]]\n",
            "\n",
            "---------------------------Output-------------------------------------\n",
            "['No' 'Yes' 'No' 'No' 'Yes' 'Yes' 'No' 'Yes' 'No' 'Yes' 'No']\n",
            "\n",
            "\n",
            "Input : \n",
            " [[0 44 72000]\n",
            " [2 27 48000]\n",
            " [1 30 54000]\n",
            " [2 38 61000]\n",
            " [1 40 68000]\n",
            " [0 35 58000]\n",
            " [2 39 52000]\n",
            " [0 48 79000]\n",
            " [1 50 83000]\n",
            " [0 37 67000]\n",
            " [2 45 55000]]\n",
            "\n",
            "\n",
            " Dummy : \n",
            "      France  Germany  Spain\n",
            "0        1        0      0\n",
            "1        0        0      1\n",
            "2        0        1      0\n",
            "3        0        0      1\n",
            "4        0        1      0\n",
            "5        1        0      0\n",
            "6        0        0      1\n",
            "7        1        0      0\n",
            "8        0        1      0\n",
            "9        1        0      0\n",
            "10       0        0      1\n",
            "\n",
            "\n",
            "Final Dataset : \n",
            "     France  Germany  Spain  Age  Salary\n",
            "0        1        0      0   44   72000\n",
            "1        0        0      1   27   48000\n",
            "2        0        1      0   30   54000\n",
            "3        0        0      1   38   61000\n",
            "4        0        1      0   40   68000\n",
            "5        1        0      0   35   58000\n",
            "6        0        0      1   39   52000\n",
            "7        1        0      0   48   79000\n",
            "8        0        1      0   50   83000\n",
            "9        1        0      0   37   67000\n",
            "10       0        0      1   45   55000\n",
            "\n",
            "\n",
            "One Hot Encoding : \n",
            " [[1. 0. 0.]\n",
            " [0. 0. 1.]\n",
            " [0. 1. 0.]\n",
            " [0. 0. 1.]\n",
            " [0. 1. 0.]\n",
            " [1. 0. 0.]\n",
            " [0. 0. 1.]\n",
            " [1. 0. 0.]\n",
            " [0. 1. 0.]\n",
            " [1. 0. 0.]\n",
            " [0. 0. 1.]]\n",
            "    Age  Salary Purchased  Country_0  Country_1  Country_2\n",
            "0    44   72000        No        1.0        0.0        0.0\n",
            "1    27   48000       Yes        0.0        0.0        1.0\n",
            "2    30   54000        No        0.0        1.0        0.0\n",
            "3    38   61000        No        0.0        0.0        1.0\n",
            "4    40   68000       Yes        0.0        1.0        0.0\n",
            "5    35   58000       Yes        1.0        0.0        0.0\n",
            "6    39   52000        No        0.0        0.0        1.0\n",
            "7    48   79000       Yes        1.0        0.0        0.0\n",
            "8    50   83000        No        0.0        1.0        0.0\n",
            "9    37   67000       Yes        1.0        0.0        0.0\n",
            "10   45   55000        No        0.0        0.0        1.0\n"
          ]
        }
      ]
    },
    {
      "cell_type": "markdown",
      "source": [
        "**3 Steps for Handling the missing value**"
      ],
      "metadata": {
        "id": "pDMpIDt7SZ5g"
      }
    },
    {
      "cell_type": "code",
      "source": [
        "# 1: Import Libraries\n",
        "import numpy as np\n",
        "import pandas as pd\n",
        "from sklearn.impute import SimpleImputer\n",
        "\n",
        "# 2: Load Data\n",
        "from google.colab import drive\n",
        "drive.mount('/content/drive')\n",
        "\n",
        "ds = pd.read_csv('/content/drive/MyDrive/Colab Notebooks/Lab2_Data_for_Missing_Values.csv')\n",
        "print(\"\\nData :\\n\",ds)\n",
        "print(\"\\nData statistics\\n\",ds.describe())\n",
        "\n",
        "# 3: Seprate Input and Output attributes\n",
        "X = ds.iloc[:,  :-1].values\n",
        "print(\"\\n---------------------------Input-------------------------------------\")\n",
        "print(X)\n",
        "Y = ds.iloc[:, -1].values\n",
        "print(\"\\n---------------------------Output-------------------------------------\")\n",
        "print(Y)\n",
        "\n",
        "#  4a. Removing the row with all null values\n",
        "ds.dropna(axis=0, how='all', inplace=True)\n",
        "print(\"\\n\\n New Data : \", ds)\n",
        "\n",
        "# 4b. Removing the row with any one null values\n",
        "#datasets.dropna(axis=0,how='any',inplace=True)\n",
        "\n",
        "print(\"\\n\")\n",
        "updated_df = ds;\n",
        "updated_df['Age']=updated_df['Age'].fillna(updated_df['Age'].mean())\n",
        "updated_df.info()\n",
        "print(\"\\n\\nDatasets : \\n\", ds)\n",
        "\n",
        "print(\"\\n\")\n",
        "updated_df = ds;\n",
        "updated_df['Salary']=updated_df['Salary'].fillna(updated_df['Salary'].mean())\n",
        "updated_df.info()\n",
        "print(\"\\n\\nDatasets : \\n\", ds)\n",
        "\n",
        "new_X = ds.iloc[:,  :-1].values\n",
        "print(\"\\n---------------------------New Input-------------------------------------\")\n",
        "print(new_X)\n",
        "new_Y = ds.iloc[:, -1].values\n",
        "print(\"\\n---------------------------New Output-------------------------------------\")\n",
        "print(new_Y)\n",
        "\n"
      ],
      "metadata": {
        "colab": {
          "base_uri": "https://localhost:8080/"
        },
        "id": "-IEEn1WjSri-",
        "outputId": "cad6af7c-1482-42df-cc31-43d65342d49a"
      },
      "execution_count": 24,
      "outputs": [
        {
          "output_type": "stream",
          "name": "stdout",
          "text": [
            "Drive already mounted at /content/drive; to attempt to forcibly remount, call drive.mount(\"/content/drive\", force_remount=True).\n",
            "\n",
            "Data :\n",
            "     Country   Age   Salary Purchased\n",
            "0    France  44.0  72000.0        No\n",
            "1     Spain  27.0  48000.0       Yes\n",
            "2   Germany  30.0  54000.0        No\n",
            "3     Spain  38.0  61000.0        No\n",
            "4       NaN   NaN      NaN       NaN\n",
            "5   Germany  40.0      NaN       Yes\n",
            "6    France  35.0  58000.0       Yes\n",
            "7     Spain   NaN  52000.0        No\n",
            "8    France  48.0  79000.0       Yes\n",
            "9   Germany  50.0  83000.0        No\n",
            "10   France  37.0  67000.0       Yes\n",
            "11    Spain  45.0  55000.0        No\n",
            "\n",
            "Data statistics\n",
            "              Age        Salary\n",
            "count  10.000000     10.000000\n",
            "mean   39.400000  62900.000000\n",
            "std     7.515909  11892.574714\n",
            "min    27.000000  48000.000000\n",
            "25%    35.500000  54250.000000\n",
            "50%    39.000000  59500.000000\n",
            "75%    44.750000  70750.000000\n",
            "max    50.000000  83000.000000\n",
            "\n",
            "---------------------------Input-------------------------------------\n",
            "[['France' 44.0 72000.0]\n",
            " ['Spain' 27.0 48000.0]\n",
            " ['Germany' 30.0 54000.0]\n",
            " ['Spain' 38.0 61000.0]\n",
            " [nan nan nan]\n",
            " ['Germany' 40.0 nan]\n",
            " ['France' 35.0 58000.0]\n",
            " ['Spain' nan 52000.0]\n",
            " ['France' 48.0 79000.0]\n",
            " ['Germany' 50.0 83000.0]\n",
            " ['France' 37.0 67000.0]\n",
            " ['Spain' 45.0 55000.0]]\n",
            "\n",
            "---------------------------Output-------------------------------------\n",
            "['No' 'Yes' 'No' 'No' nan 'Yes' 'Yes' 'No' 'Yes' 'No' 'Yes' 'No']\n",
            "\n",
            "\n",
            " New Data :      Country   Age   Salary Purchased\n",
            "0    France  44.0  72000.0        No\n",
            "1     Spain  27.0  48000.0       Yes\n",
            "2   Germany  30.0  54000.0        No\n",
            "3     Spain  38.0  61000.0        No\n",
            "5   Germany  40.0      NaN       Yes\n",
            "6    France  35.0  58000.0       Yes\n",
            "7     Spain   NaN  52000.0        No\n",
            "8    France  48.0  79000.0       Yes\n",
            "9   Germany  50.0  83000.0        No\n",
            "10   France  37.0  67000.0       Yes\n",
            "11    Spain  45.0  55000.0        No\n",
            "\n",
            "\n",
            "<class 'pandas.core.frame.DataFrame'>\n",
            "Int64Index: 11 entries, 0 to 11\n",
            "Data columns (total 4 columns):\n",
            " #   Column     Non-Null Count  Dtype  \n",
            "---  ------     --------------  -----  \n",
            " 0   Country    11 non-null     object \n",
            " 1   Age        11 non-null     float64\n",
            " 2   Salary     10 non-null     float64\n",
            " 3   Purchased  11 non-null     object \n",
            "dtypes: float64(2), object(2)\n",
            "memory usage: 440.0+ bytes\n",
            "\n",
            "\n",
            "Datasets : \n",
            "     Country   Age   Salary Purchased\n",
            "0    France  44.0  72000.0        No\n",
            "1     Spain  27.0  48000.0       Yes\n",
            "2   Germany  30.0  54000.0        No\n",
            "3     Spain  38.0  61000.0        No\n",
            "5   Germany  40.0      NaN       Yes\n",
            "6    France  35.0  58000.0       Yes\n",
            "7     Spain  39.4  52000.0        No\n",
            "8    France  48.0  79000.0       Yes\n",
            "9   Germany  50.0  83000.0        No\n",
            "10   France  37.0  67000.0       Yes\n",
            "11    Spain  45.0  55000.0        No\n",
            "\n",
            "\n",
            "<class 'pandas.core.frame.DataFrame'>\n",
            "Int64Index: 11 entries, 0 to 11\n",
            "Data columns (total 4 columns):\n",
            " #   Column     Non-Null Count  Dtype  \n",
            "---  ------     --------------  -----  \n",
            " 0   Country    11 non-null     object \n",
            " 1   Age        11 non-null     float64\n",
            " 2   Salary     11 non-null     float64\n",
            " 3   Purchased  11 non-null     object \n",
            "dtypes: float64(2), object(2)\n",
            "memory usage: 440.0+ bytes\n",
            "\n",
            "\n",
            "Datasets : \n",
            "     Country   Age   Salary Purchased\n",
            "0    France  44.0  72000.0        No\n",
            "1     Spain  27.0  48000.0       Yes\n",
            "2   Germany  30.0  54000.0        No\n",
            "3     Spain  38.0  61000.0        No\n",
            "5   Germany  40.0  62900.0       Yes\n",
            "6    France  35.0  58000.0       Yes\n",
            "7     Spain  39.4  52000.0        No\n",
            "8    France  48.0  79000.0       Yes\n",
            "9   Germany  50.0  83000.0        No\n",
            "10   France  37.0  67000.0       Yes\n",
            "11    Spain  45.0  55000.0        No\n",
            "\n",
            "---------------------------New Input-------------------------------------\n",
            "[['France' 44.0 72000.0]\n",
            " ['Spain' 27.0 48000.0]\n",
            " ['Germany' 30.0 54000.0]\n",
            " ['Spain' 38.0 61000.0]\n",
            " ['Germany' 40.0 62900.0]\n",
            " ['France' 35.0 58000.0]\n",
            " ['Spain' 39.4 52000.0]\n",
            " ['France' 48.0 79000.0]\n",
            " ['Germany' 50.0 83000.0]\n",
            " ['France' 37.0 67000.0]\n",
            " ['Spain' 45.0 55000.0]]\n",
            "\n",
            "---------------------------New Output-------------------------------------\n",
            "['No' 'Yes' 'No' 'No' 'Yes' 'Yes' 'No' 'Yes' 'No' 'Yes' 'No']\n"
          ]
        }
      ]
    },
    {
      "cell_type": "code",
      "source": [
        "# 1: Import Libraries\n",
        "import numpy as np\n",
        "import pandas as pd\n",
        "from sklearn.impute import SimpleImputer\n",
        "\n",
        "# 2: Load Data\n",
        "from google.colab import drive\n",
        "drive.mount('/content/drive')\n",
        "\n",
        "ds = pd.read_csv('/content/drive/MyDrive/Colab Notebooks/Lab2_Data_for_Missing_Values.csv')\n",
        "print(\"\\nData :\\n\",ds)\n",
        "print(\"\\nData statistics\\n\",ds.describe())\n",
        "\n",
        "# 3: Seprate Input and Output attributes\n",
        "X = ds.iloc[:,  :-1].values\n",
        "print(\"\\n---------------------------Input-------------------------------------\")\n",
        "print(X)\n",
        "Y = ds.iloc[:, -1].values\n",
        "print(\"\\n---------------------------Output-------------------------------------\")\n",
        "print(Y)\n",
        "\n",
        "#  4a. Removing the row with all null values\n",
        "ds.dropna(axis=0, how='all', inplace=True)\n",
        "print(\"\\n\\n New Data : \", ds)\n",
        "\n",
        "# 4b. Removing the row with any one null values\n",
        "#datasets.dropna(axis=0,how='any',inplace=True)\n",
        "\n",
        "# 4c.  Imputation (Replacing null values with mean value of that attribute)\n",
        "new_X = ds.iloc[:,  :-1].values\n",
        "print(\"\\n---------------------------Input-------------------------------------\")\n",
        "print(new_X)\n",
        "new_Y = ds.iloc[:, -1].values\n",
        "print(\"\\n---------------------------Output-------------------------------------\")\n",
        "print(new_Y)\n",
        "\n",
        "updated_df['Age'].fillna(updated_df['Age'].mean())\n",
        "imputer = SimpleImputer(missing_values=np.nan, strategy = \"mean\")\n",
        "imputer = imputer.fit(new_X[:, 1:3])\n",
        "new_X[:, 1:3] = imputer.transform(new_X[:, 1:3])\n",
        "print(\"\\n\\nNew Input with Mean Value for Nan : \\n\\n\", new_X)\n"
      ],
      "metadata": {
        "colab": {
          "base_uri": "https://localhost:8080/"
        },
        "id": "hBIoeaeeWJtg",
        "outputId": "eeaa328a-4a5f-4019-ab5d-a46d3445b88e"
      },
      "execution_count": 25,
      "outputs": [
        {
          "output_type": "stream",
          "name": "stdout",
          "text": [
            "Drive already mounted at /content/drive; to attempt to forcibly remount, call drive.mount(\"/content/drive\", force_remount=True).\n",
            "\n",
            "Data :\n",
            "     Country   Age   Salary Purchased\n",
            "0    France  44.0  72000.0        No\n",
            "1     Spain  27.0  48000.0       Yes\n",
            "2   Germany  30.0  54000.0        No\n",
            "3     Spain  38.0  61000.0        No\n",
            "4       NaN   NaN      NaN       NaN\n",
            "5   Germany  40.0      NaN       Yes\n",
            "6    France  35.0  58000.0       Yes\n",
            "7     Spain   NaN  52000.0        No\n",
            "8    France  48.0  79000.0       Yes\n",
            "9   Germany  50.0  83000.0        No\n",
            "10   France  37.0  67000.0       Yes\n",
            "11    Spain  45.0  55000.0        No\n",
            "\n",
            "Data statistics\n",
            "              Age        Salary\n",
            "count  10.000000     10.000000\n",
            "mean   39.400000  62900.000000\n",
            "std     7.515909  11892.574714\n",
            "min    27.000000  48000.000000\n",
            "25%    35.500000  54250.000000\n",
            "50%    39.000000  59500.000000\n",
            "75%    44.750000  70750.000000\n",
            "max    50.000000  83000.000000\n",
            "\n",
            "---------------------------Input-------------------------------------\n",
            "[['France' 44.0 72000.0]\n",
            " ['Spain' 27.0 48000.0]\n",
            " ['Germany' 30.0 54000.0]\n",
            " ['Spain' 38.0 61000.0]\n",
            " [nan nan nan]\n",
            " ['Germany' 40.0 nan]\n",
            " ['France' 35.0 58000.0]\n",
            " ['Spain' nan 52000.0]\n",
            " ['France' 48.0 79000.0]\n",
            " ['Germany' 50.0 83000.0]\n",
            " ['France' 37.0 67000.0]\n",
            " ['Spain' 45.0 55000.0]]\n",
            "\n",
            "---------------------------Output-------------------------------------\n",
            "['No' 'Yes' 'No' 'No' nan 'Yes' 'Yes' 'No' 'Yes' 'No' 'Yes' 'No']\n",
            "\n",
            "\n",
            " New Data :      Country   Age   Salary Purchased\n",
            "0    France  44.0  72000.0        No\n",
            "1     Spain  27.0  48000.0       Yes\n",
            "2   Germany  30.0  54000.0        No\n",
            "3     Spain  38.0  61000.0        No\n",
            "5   Germany  40.0      NaN       Yes\n",
            "6    France  35.0  58000.0       Yes\n",
            "7     Spain   NaN  52000.0        No\n",
            "8    France  48.0  79000.0       Yes\n",
            "9   Germany  50.0  83000.0        No\n",
            "10   France  37.0  67000.0       Yes\n",
            "11    Spain  45.0  55000.0        No\n",
            "\n",
            "---------------------------Input-------------------------------------\n",
            "[['France' 44.0 72000.0]\n",
            " ['Spain' 27.0 48000.0]\n",
            " ['Germany' 30.0 54000.0]\n",
            " ['Spain' 38.0 61000.0]\n",
            " ['Germany' 40.0 nan]\n",
            " ['France' 35.0 58000.0]\n",
            " ['Spain' nan 52000.0]\n",
            " ['France' 48.0 79000.0]\n",
            " ['Germany' 50.0 83000.0]\n",
            " ['France' 37.0 67000.0]\n",
            " ['Spain' 45.0 55000.0]]\n",
            "\n",
            "---------------------------Output-------------------------------------\n",
            "['No' 'Yes' 'No' 'No' 'Yes' 'Yes' 'No' 'Yes' 'No' 'Yes' 'No']\n",
            "\n",
            "\n",
            "New Input with Mean Value for Nan : \n",
            "\n",
            " [['France' 44.0 72000.0]\n",
            " ['Spain' 27.0 48000.0]\n",
            " ['Germany' 30.0 54000.0]\n",
            " ['Spain' 38.0 61000.0]\n",
            " ['Germany' 40.0 62900.0]\n",
            " ['France' 35.0 58000.0]\n",
            " ['Spain' 39.4 52000.0]\n",
            " ['France' 48.0 79000.0]\n",
            " ['Germany' 50.0 83000.0]\n",
            " ['France' 37.0 67000.0]\n",
            " ['Spain' 45.0 55000.0]]\n"
          ]
        }
      ]
    },
    {
      "cell_type": "markdown",
      "source": [
        "**4 Correlation**"
      ],
      "metadata": {
        "id": "pth668ExYT5l"
      }
    },
    {
      "cell_type": "code",
      "source": [
        "# 1: Import Libraries\n",
        "import numpy as np\n",
        "import pandas as pd\n",
        "import seaborn as sns\n",
        "\n",
        "\n",
        "# 2: Load Data\n",
        "from google.colab import drive\n",
        "drive.mount('/content/drive')\n",
        "\n",
        "ds = pd.read_csv('/content/drive/MyDrive/Colab Notebooks/Lab2_Data_for_Correlation.csv')\n",
        "# print(\"\\nData :\\n\",ds)\n",
        "# print(\"\\nData statistics\\n\",ds.describe())\n",
        "print(\"\\n\\nData : \\n\", ds)\n",
        "\n",
        "# 3: Removing the Class Label entry (Y)\n",
        "ds = ds.iloc[:, :-1]\n",
        "print(\"\\n\\nDataset : \\n\", ds)\n",
        "\n",
        "print(\"\\n\\n\")\n",
        "ds.info()\n",
        "\n",
        "# 4: Selecting features based on correlation Generating the correlation matrix\n",
        "corr = ds.corr()\n",
        "print(\"\\n\\n\")\n",
        "corr.head()\n",
        "\n",
        "# 5: Generating the correlation heatmap\n",
        "sns.heatmap(corr)\n"
      ],
      "metadata": {
        "colab": {
          "base_uri": "https://localhost:8080/",
          "height": 1000
        },
        "id": "0wbqgzDhYTm8",
        "outputId": "f19d3a0c-8d8f-41cb-c39e-b0a8d0ca738f"
      },
      "execution_count": 26,
      "outputs": [
        {
          "output_type": "stream",
          "name": "stdout",
          "text": [
            "Drive already mounted at /content/drive; to attempt to forcibly remount, call drive.mount(\"/content/drive\", force_remount=True).\n",
            "\n",
            "\n",
            "Data : \n",
            "     X1   X2  X3   X4  Y\n",
            "0    1    1   4   -2  1\n",
            "1    2    4   5   -4  1\n",
            "2    3    9   6    3  0\n",
            "3    4   16   7    4  0\n",
            "4    5   25   8   25  1\n",
            "5    6   36   9   76  0\n",
            "6    7   49  10   34  1\n",
            "7    8   64  11  346  0\n",
            "8    9   81  12   67  0\n",
            "9   10  100  13    3  0\n",
            "10  11  121  14  355  1\n",
            "11  12  144  15   88  1\n",
            "12  13  169  16    2  0\n",
            "13  14  196  17    1  1\n",
            "\n",
            "\n",
            "Dataset : \n",
            "     X1   X2  X3   X4\n",
            "0    1    1   4   -2\n",
            "1    2    4   5   -4\n",
            "2    3    9   6    3\n",
            "3    4   16   7    4\n",
            "4    5   25   8   25\n",
            "5    6   36   9   76\n",
            "6    7   49  10   34\n",
            "7    8   64  11  346\n",
            "8    9   81  12   67\n",
            "9   10  100  13    3\n",
            "10  11  121  14  355\n",
            "11  12  144  15   88\n",
            "12  13  169  16    2\n",
            "13  14  196  17    1\n",
            "\n",
            "\n",
            "\n",
            "<class 'pandas.core.frame.DataFrame'>\n",
            "RangeIndex: 14 entries, 0 to 13\n",
            "Data columns (total 4 columns):\n",
            " #   Column  Non-Null Count  Dtype\n",
            "---  ------  --------------  -----\n",
            " 0   X1      14 non-null     int64\n",
            " 1   X2      14 non-null     int64\n",
            " 2   X3      14 non-null     int64\n",
            " 3   X4      14 non-null     int64\n",
            "dtypes: int64(4)\n",
            "memory usage: 576.0 bytes\n",
            "\n",
            "\n",
            "\n"
          ]
        },
        {
          "output_type": "execute_result",
          "data": {
            "text/plain": [
              "<matplotlib.axes._subplots.AxesSubplot at 0x7fe5746e0790>"
            ]
          },
          "metadata": {},
          "execution_count": 26
        },
        {
          "output_type": "display_data",
          "data": {
            "text/plain": [
              "<Figure size 432x288 with 2 Axes>"
            ],
            "image/png": "[encoded data removed]"
          },
          "metadata": {
            "needs_background": "light"
          }
        }
      ]
    },
    {
      "cell_type": "code",
      "source": [
        "columns = np.full((corr.shape[0],), True, dtype=bool)\n",
        "for i in range(corr.shape[0]):\n",
        "  for j in range(i+1, corr.shape[0]):\n",
        "    if corr.iloc[i,j] >= 0.9:\n",
        "      if columns[j]:\n",
        "        columns[j] = False"
      ],
      "metadata": {
        "id": "83InjlzHcs2i"
      },
      "execution_count": 27,
      "outputs": []
    },
    {
      "cell_type": "code",
      "source": [
        "selected_columns = ds.columns[columns]\n",
        "selected_columns.shape"
      ],
      "metadata": {
        "colab": {
          "base_uri": "https://localhost:8080/"
        },
        "id": "1C9FVeddc1UI",
        "outputId": "f10f6ad2-2f70-42fe-bc66-3763fbc602be"
      },
      "execution_count": 28,
      "outputs": [
        {
          "output_type": "execute_result",
          "data": {
            "text/plain": [
              "(2,)"
            ]
          },
          "metadata": {},
          "execution_count": 28
        }
      ]
    },
    {
      "cell_type": "code",
      "source": [
        "ds = ds[selected_columns]\n",
        "print(ds)"
      ],
      "metadata": {
        "colab": {
          "base_uri": "https://localhost:8080/"
        },
        "id": "op3ys2ssc28s",
        "outputId": "3fe5e70a-371b-4e75-e724-a91b751fc8b4"
      },
      "execution_count": 29,
      "outputs": [
        {
          "output_type": "stream",
          "name": "stdout",
          "text": [
            "    X1   X4\n",
            "0    1   -2\n",
            "1    2   -4\n",
            "2    3    3\n",
            "3    4    4\n",
            "4    5   25\n",
            "5    6   76\n",
            "6    7   34\n",
            "7    8  346\n",
            "8    9   67\n",
            "9   10    3\n",
            "10  11  355\n",
            "11  12   88\n",
            "12  13    2\n",
            "13  14    1\n"
          ]
        }
      ]
    },
    {
      "cell_type": "markdown",
      "source": [
        "# **Exercise:**"
      ],
      "metadata": {
        "id": "v9DZ9F0OccLa"
      }
    },
    {
      "cell_type": "code",
      "source": [
        "# 1: Import Libraries\n",
        "import numpy as np\n",
        "import pandas as pd\n",
        "from sklearn.preprocessing import MinMaxScaler, StandardScaler\n",
        "from sklearn.impute import SimpleImputer"
      ],
      "metadata": {
        "id": "VjmXoToSciDR"
      },
      "execution_count": 35,
      "outputs": []
    },
    {
      "cell_type": "code",
      "source": [
        "# 2: Load Data\n",
        "from google.colab import drive\n",
        "drive.mount('/content/drive')\n",
        "\n",
        "ds = pd.read_csv('/content/drive/MyDrive/Colab Notebooks/Lab2_Exercise-CarData.csv')\n",
        "print(\"\\nData :\\n\",ds)\n",
        "print(\"\\nData statistics\\n\",ds.describe())"
      ],
      "metadata": {
        "colab": {
          "base_uri": "https://localhost:8080/"
        },
        "id": "83WVpk7ieAZh",
        "outputId": "2928132a-88d2-4b7f-a939-0a979787fc0f"
      },
      "execution_count": 33,
      "outputs": [
        {
          "output_type": "stream",
          "name": "stdout",
          "text": [
            "Drive already mounted at /content/drive; to attempt to forcibly remount, call drive.mount(\"/content/drive\", force_remount=True).\n",
            "\n",
            "Data :\n",
            "       Unnamed: 0  Price   Age     KM FuelType   HP  MetColor  Automatic    CC  \\\n",
            "0              0  13500  23.0  46986   Diesel   90       1.0          0  2000   \n",
            "1              1  13750  23.0  72937   Diesel   90       1.0          0  2000   \n",
            "2              2  13950  24.0  41711   Diesel   90       NaN          0  2000   \n",
            "3              3  14950  26.0  48000   Diesel   90       0.0          0  2000   \n",
            "4              4  13750  30.0  38500   Diesel   90       0.0          0  2000   \n",
            "...          ...    ...   ...    ...      ...  ...       ...        ...   ...   \n",
            "1431        1431   7500   NaN  20544   Petrol   86       1.0          0  1300   \n",
            "1432        1432  10845  72.0     ??   Petrol   86       0.0          0  1300   \n",
            "1433        1433   8500   NaN  17016   Petrol   86       0.0          0  1300   \n",
            "1434        1434   7250  70.0     ??      NaN   86       1.0          0  1300   \n",
            "1435        1435   6950  76.0      1   Petrol  110       0.0          0  1600   \n",
            "\n",
            "      Doors  Weight  \n",
            "0     three    1165  \n",
            "1         3    1165  \n",
            "2         3    1165  \n",
            "3         3    1165  \n",
            "4         3    1170  \n",
            "...     ...     ...  \n",
            "1431      3    1025  \n",
            "1432      3    1015  \n",
            "1433      3    1015  \n",
            "1434      3    1015  \n",
            "1435      5    1114  \n",
            "\n",
            "[1436 rows x 11 columns]\n",
            "\n",
            "Data statistics\n",
            "         Unnamed: 0         Price          Age     MetColor    Automatic  \\\n",
            "count  1436.000000   1436.000000  1336.000000  1286.000000  1436.000000   \n",
            "mean    717.500000  10730.824513    55.672156     0.674961     0.055710   \n",
            "std     414.681806   3626.964585    18.589804     0.468572     0.229441   \n",
            "min       0.000000   4350.000000     1.000000     0.000000     0.000000   \n",
            "25%     358.750000   8450.000000    43.000000     0.000000     0.000000   \n",
            "50%     717.500000   9900.000000    60.000000     1.000000     0.000000   \n",
            "75%    1076.250000  11950.000000    70.000000     1.000000     0.000000   \n",
            "max    1435.000000  32500.000000    80.000000     1.000000     1.000000   \n",
            "\n",
            "                CC      Weight  \n",
            "count  1436.000000  1436.00000  \n",
            "mean   1566.827994  1072.45961  \n",
            "std     187.182436    52.64112  \n",
            "min    1300.000000  1000.00000  \n",
            "25%    1400.000000  1040.00000  \n",
            "50%    1600.000000  1070.00000  \n",
            "75%    1600.000000  1085.00000  \n",
            "max    2000.000000  1615.00000  \n"
          ]
        }
      ]
    },
    {
      "cell_type": "code",
      "source": [
        "# 3: Seprate Input and Output attributes\n",
        "X = ds.iloc[:,  :-1].values\n",
        "print(\"\\n---------------------------Input-------------------------------------\")\n",
        "print(X)\n",
        "Y = ds.iloc[:, -1].values\n",
        "print(\"\\n---------------------------Output------------------------------------\")\n",
        "print(Y)"
      ],
      "metadata": {
        "colab": {
          "base_uri": "https://localhost:8080/"
        },
        "id": "Pr94ErdueFD_",
        "outputId": "367e6674-94d2-4da4-e973-c736111fea35"
      },
      "execution_count": 38,
      "outputs": [
        {
          "output_type": "stream",
          "name": "stdout",
          "text": [
            "\n",
            "---------------------------Input-------------------------------------\n",
            "[[0 13500 23.0 ... 0 2000 'three']\n",
            " [1 13750 23.0 ... 0 2000 '3']\n",
            " [2 13950 24.0 ... 0 2000 '3']\n",
            " ...\n",
            " [1433 8500 nan ... 0 1300 '3']\n",
            " [1434 7250 70.0 ... 0 1300 '3']\n",
            " [1435 6950 76.0 ... 0 1600 '5']]\n",
            "\n",
            "---------------------------Output------------------------------------\n",
            "[1165 1165 1165 ... 1015 1015 1114]\n"
          ]
        }
      ]
    },
    {
      "cell_type": "code",
      "source": [
        "X_new = ds.iloc[:, 1:3].values\n",
        "print(\"\\n\\nX for transformation : \\n\", X_new)"
      ],
      "metadata": {
        "colab": {
          "base_uri": "https://localhost:8080/"
        },
        "id": "_VRKwohofwLK",
        "outputId": "e37d08fa-b2c8-4aac-a8ff-85889bdc8522"
      },
      "execution_count": 39,
      "outputs": [
        {
          "output_type": "stream",
          "name": "stdout",
          "text": [
            "\n",
            "\n",
            "X for transformation : \n",
            " [[13500.    23.]\n",
            " [13750.    23.]\n",
            " [13950.    24.]\n",
            " ...\n",
            " [ 8500.    nan]\n",
            " [ 7250.    70.]\n",
            " [ 6950.    76.]]\n"
          ]
        }
      ]
    },
    {
      "cell_type": "code",
      "source": [
        "scaler = MinMaxScaler()\n",
        "X_scaled = scaler.fit_transform(X_new)\n",
        "print(\"\\n\\nScaled X : \\n\", X_scaled)"
      ],
      "metadata": {
        "colab": {
          "base_uri": "https://localhost:8080/"
        },
        "id": "BSZshobIharW",
        "outputId": "8bd1f98e-3aa8-40fe-df8f-6e88924a65e5"
      },
      "execution_count": 40,
      "outputs": [
        {
          "output_type": "stream",
          "name": "stdout",
          "text": [
            "\n",
            "\n",
            "Scaled X : \n",
            " [[0.3250444  0.27848101]\n",
            " [0.3339254  0.27848101]\n",
            " [0.3410302  0.29113924]\n",
            " ...\n",
            " [0.14742451        nan]\n",
            " [0.10301954 0.87341772]\n",
            " [0.09236234 0.94936709]]\n"
          ]
        }
      ]
    },
    {
      "cell_type": "code",
      "source": [
        "std = StandardScaler()\n",
        "X_std = std.fit_transform(X_new)\n",
        "print(\"\\n\\nStandardized X : \\n\", X_std)"
      ],
      "metadata": {
        "colab": {
          "base_uri": "https://localhost:8080/"
        },
        "id": "LV0PYsOCfokn",
        "outputId": "bd48b6dd-fde9-4b2c-a7b3-59309688c968"
      },
      "execution_count": 41,
      "outputs": [
        {
          "output_type": "stream",
          "name": "stdout",
          "text": [
            "\n",
            "\n",
            "Standardized X : \n",
            " [[ 0.76376268 -1.75818903]\n",
            " [ 0.83271485 -1.75818903]\n",
            " [ 0.88787659 -1.70437596]\n",
            " ...\n",
            " [-0.6152808          nan]\n",
            " [-0.96004167  0.7710253 ]\n",
            " [-1.04278428  1.09390373]]\n"
          ]
        }
      ]
    },
    {
      "cell_type": "code",
      "source": [
        "import numpy as np\n",
        "import pandas as pd\n",
        "from sklearn.impute import SimpleImputer\n",
        "ds = pd.read_csv('/content/drive/MyDrive/Colab Notebooks/Lab2_Exercise-CarData.csv')\n",
        "print(\"\\nData :\\n\",ds)\n",
        "print(\"\\nData statistics\\n\",ds.describe())"
      ],
      "metadata": {
        "colab": {
          "base_uri": "https://localhost:8080/"
        },
        "id": "D-s40gPDfxoI",
        "outputId": "e15f0b17-aeaf-4fe2-bad4-46c58cf46075"
      },
      "execution_count": 43,
      "outputs": [
        {
          "output_type": "stream",
          "name": "stdout",
          "text": [
            "\n",
            "Data :\n",
            "       Unnamed: 0  Price   Age     KM FuelType   HP  MetColor  Automatic    CC  \\\n",
            "0              0  13500  23.0  46986   Diesel   90       1.0          0  2000   \n",
            "1              1  13750  23.0  72937   Diesel   90       1.0          0  2000   \n",
            "2              2  13950  24.0  41711   Diesel   90       NaN          0  2000   \n",
            "3              3  14950  26.0  48000   Diesel   90       0.0          0  2000   \n",
            "4              4  13750  30.0  38500   Diesel   90       0.0          0  2000   \n",
            "...          ...    ...   ...    ...      ...  ...       ...        ...   ...   \n",
            "1431        1431   7500   NaN  20544   Petrol   86       1.0          0  1300   \n",
            "1432        1432  10845  72.0     ??   Petrol   86       0.0          0  1300   \n",
            "1433        1433   8500   NaN  17016   Petrol   86       0.0          0  1300   \n",
            "1434        1434   7250  70.0     ??      NaN   86       1.0          0  1300   \n",
            "1435        1435   6950  76.0      1   Petrol  110       0.0          0  1600   \n",
            "\n",
            "      Doors  Weight  \n",
            "0     three    1165  \n",
            "1         3    1165  \n",
            "2         3    1165  \n",
            "3         3    1165  \n",
            "4         3    1170  \n",
            "...     ...     ...  \n",
            "1431      3    1025  \n",
            "1432      3    1015  \n",
            "1433      3    1015  \n",
            "1434      3    1015  \n",
            "1435      5    1114  \n",
            "\n",
            "[1436 rows x 11 columns]\n",
            "\n",
            "Data statistics\n",
            "         Unnamed: 0         Price          Age     MetColor    Automatic  \\\n",
            "count  1436.000000   1436.000000  1336.000000  1286.000000  1436.000000   \n",
            "mean    717.500000  10730.824513    55.672156     0.674961     0.055710   \n",
            "std     414.681806   3626.964585    18.589804     0.468572     0.229441   \n",
            "min       0.000000   4350.000000     1.000000     0.000000     0.000000   \n",
            "25%     358.750000   8450.000000    43.000000     0.000000     0.000000   \n",
            "50%     717.500000   9900.000000    60.000000     1.000000     0.000000   \n",
            "75%    1076.250000  11950.000000    70.000000     1.000000     0.000000   \n",
            "max    1435.000000  32500.000000    80.000000     1.000000     1.000000   \n",
            "\n",
            "                CC      Weight  \n",
            "count  1436.000000  1436.00000  \n",
            "mean   1566.827994  1072.45961  \n",
            "std     187.182436    52.64112  \n",
            "min    1300.000000  1000.00000  \n",
            "25%    1400.000000  1040.00000  \n",
            "50%    1600.000000  1070.00000  \n",
            "75%    1600.000000  1085.00000  \n",
            "max    2000.000000  1615.00000  \n"
          ]
        }
      ]
    },
    {
      "cell_type": "code",
      "source": [
        "ds.dropna(axis=0,how='all',inplace=True)\n",
        "print(\"\\nNew Data :\",ds)"
      ],
      "metadata": {
        "colab": {
          "base_uri": "https://localhost:8080/"
        },
        "id": "KKwy4bc5hko3",
        "outputId": "a3746da4-721a-456e-e14d-b864be060058"
      },
      "execution_count": 44,
      "outputs": [
        {
          "output_type": "stream",
          "name": "stdout",
          "text": [
            "\n",
            "New Data :       Unnamed: 0  Price   Age     KM FuelType   HP  MetColor  Automatic    CC  \\\n",
            "0              0  13500  23.0  46986   Diesel   90       1.0          0  2000   \n",
            "1              1  13750  23.0  72937   Diesel   90       1.0          0  2000   \n",
            "2              2  13950  24.0  41711   Diesel   90       NaN          0  2000   \n",
            "3              3  14950  26.0  48000   Diesel   90       0.0          0  2000   \n",
            "4              4  13750  30.0  38500   Diesel   90       0.0          0  2000   \n",
            "...          ...    ...   ...    ...      ...  ...       ...        ...   ...   \n",
            "1431        1431   7500   NaN  20544   Petrol   86       1.0          0  1300   \n",
            "1432        1432  10845  72.0     ??   Petrol   86       0.0          0  1300   \n",
            "1433        1433   8500   NaN  17016   Petrol   86       0.0          0  1300   \n",
            "1434        1434   7250  70.0     ??      NaN   86       1.0          0  1300   \n",
            "1435        1435   6950  76.0      1   Petrol  110       0.0          0  1600   \n",
            "\n",
            "      Doors  Weight  \n",
            "0     three    1165  \n",
            "1         3    1165  \n",
            "2         3    1165  \n",
            "3         3    1165  \n",
            "4         3    1170  \n",
            "...     ...     ...  \n",
            "1431      3    1025  \n",
            "1432      3    1015  \n",
            "1433      3    1015  \n",
            "1434      3    1015  \n",
            "1435      5    1114  \n",
            "\n",
            "[1436 rows x 11 columns]\n"
          ]
        }
      ]
    },
    {
      "cell_type": "code",
      "source": [
        "new_X = ds.iloc[:, :-1].values\n",
        "# Only last column\n",
        "new_Y = ds.iloc[:, -1].values\n",
        "imputer = SimpleImputer(missing_values = np.nan,strategy = \"mean\")\n",
        "# Fitting the data, function learns the stats\n",
        "imputer = imputer.fit(new_X[:, 1:3])\n",
        "# fit_transform() will execute those stats on the input ie. X[:, 1:3]\n",
        "new_X[:, 1:3] = imputer.transform(new_X[:, 1:3])\n",
        "# filling the missing value with mean\n",
        "print(\"\\n\\nNew Input with Mean Value for NaN : \\n\\n\", new_X)"
      ],
      "metadata": {
        "colab": {
          "base_uri": "https://localhost:8080/"
        },
        "id": "XTZCdZ_XiG6_",
        "outputId": "722d448b-0803-4c24-815b-129f29915d0d"
      },
      "execution_count": 45,
      "outputs": [
        {
          "output_type": "stream",
          "name": "stdout",
          "text": [
            "\n",
            "\n",
            "New Input with Mean Value for NaN : \n",
            "\n",
            " [[0 13500.0 23.0 ... 0 2000 'three']\n",
            " [1 13750.0 23.0 ... 0 2000 '3']\n",
            " [2 13950.0 24.0 ... 0 2000 '3']\n",
            " ...\n",
            " [1433 8500.0 55.67215568862275 ... 0 1300 '3']\n",
            " [1434 7250.0 70.0 ... 0 1300 '3']\n",
            " [1435 6950.0 76.0 ... 0 1600 '5']]\n"
          ]
        }
      ]
    }
  ]
}